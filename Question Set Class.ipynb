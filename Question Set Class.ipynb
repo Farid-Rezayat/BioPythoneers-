{
 "cells": [
  {
   "cell_type": "code",
   "execution_count": 1,
   "id": "0b04797b",
   "metadata": {},
   "outputs": [],
   "source": [
    "class Questions_Set():\n",
    "    def __init__(self,prompt,answer,length=1):\n",
    "        self.prompt=prompt\n",
    "        self.answer=answer\n",
    "        self.length=length"
   ]
  },
  {
   "cell_type": "code",
   "execution_count": null,
   "id": "c5754d6c",
   "metadata": {},
   "outputs": [],
   "source": []
  }
 ],
 "metadata": {
  "kernelspec": {
   "display_name": "Python 3 (ipykernel)",
   "language": "python",
   "name": "python3"
  },
  "language_info": {
   "codemirror_mode": {
    "name": "ipython",
    "version": 3
   },
   "file_extension": ".py",
   "mimetype": "text/x-python",
   "name": "python",
   "nbconvert_exporter": "python",
   "pygments_lexer": "ipython3",
   "version": "3.9.5"
  }
 },
 "nbformat": 4,
 "nbformat_minor": 5
}
